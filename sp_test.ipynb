{
 "cells": [
  {
   "cell_type": "code",
   "execution_count": 1,
   "metadata": {},
   "outputs": [],
   "source": [
    "import numpy as np\n",
    "import scipy.integrate as intg\n",
    "import scipy.signal as sig\n",
    "import os\n",
    "import fnmatch as fm\n",
    "import re\n",
    "import scan_functions as sf\n",
    "import matplotlib.pyplot as plt\n",
    "%matplotlib inline\n",
    "import matplotlib as mpl\n",
    "mpl.rc('xtick', direction='in', top=True)\n",
    "mpl.rc('ytick', direction='in', right=True)\n",
    "mpl.rc('xtick.minor', visible=True)\n",
    "mpl.rc('ytick.minor', visible=True)"
   ]
  },
  {
   "cell_type": "code",
   "execution_count": 2,
   "metadata": {},
   "outputs": [],
   "source": [
    "# importing the with O2 testing data as wox\n",
    "# importing the without O2 testing data as nox\n",
    "# data file path is to the two folders that are WITHIN the working directory\n",
    "wox = dict()\n",
    "nox = dict()\n",
    "# the bad guys are the ones that dont have glass/flat on the left\n",
    "bad_wox = np.array(['s3t4', 's3t5', 's3t6', 's6t1', 's6t2', 's6t3'])\n",
    "# bad_nox = np.array(['']) dont think there are any, yay me :)\n",
    "wox = sf.scan_dict(wox,'./al2o3_O2_testing_12-2-19/',bad_bois=bad_wox)\n",
    "nox = sf.scan_dict(nox,'./al2o3_no-O2_testing_12-19-19/')\n",
    "# make sure all data is in mircometers\n",
    "wox = sf.make_x_micro(wox)\n",
    "nox = sf.make_x_micro(nox)"
   ]
  },
  {
   "cell_type": "code",
   "execution_count": 3,
   "metadata": {},
   "outputs": [],
   "source": [
    "# wox variables for 'sp_analysis_hard'\n",
    "# will wanna revisit these after i apply new data adjustments\n",
    "w_xfa = np.array([.4,.45,.45,.2,.4,\n",
    "                  .4,.4,.45,.45,\n",
    "                  .45,.3,.3,.25,.25,.25,\n",
    "                  .4,.3,.35,.3,.4,\n",
    "                  .4,.4,.5,.4,.4,.4,\n",
    "                  .9,.45,.7,\n",
    "                  .4,.3,.4,.4,.3,\n",
    "                  .3,.3,.35,.4])\n",
    "w_xib = np.array([.65,.7,.6,.8,.65,\n",
    "                  .7,.55,.7,.6,\n",
    "                 .65,.4,.55,.4,.45,.4,\n",
    "                 .5,.45,.5,.6,.6,\n",
    "                 .65,.55,.65,.6,.65,.55,\n",
    "                 1.1,.6,.9,\n",
    "                 .5,.45,.55,.6,.55,\n",
    "                 .5,.45,.6,.65])\n",
    "# w_xfb = np.array([(w_xib[i]+.4) for i in range(len(w_xib))])\n",
    "w_xfb = np.array([1.2,.9,.8,1.2,1.,\n",
    "                 1.,.95,1.4,1.3,\n",
    "                 1.1,1.,.8,1.,1.,.8,\n",
    "                 1.,.8,.65,1.1,.75,\n",
    "                 1.7,.85,.9,.75,1.,1.05,\n",
    "                 1.4,.9,1.05,\n",
    "                 .7,.85,1.2,1.15,1.1,\n",
    "                 .8,.85,.85,1.05])"
   ]
  },
  {
   "cell_type": "code",
   "execution_count": 4,
   "metadata": {},
   "outputs": [],
   "source": [
    "# nox variables for 'sp_analysis_hard'\n",
    "# sample: runs, this will help hella\n",
    "# ^ 1:5, 2:6, 3:6, 4:6, 5:6, 6:6, 7:6, 8:5\n",
    "# set that needs xia: s2t1\n",
    "n_xfa = np.array([.55,.4,.4,.55,.65,\n",
    "                 .45,.35,.4,.45,.45,.4,\n",
    "                 .3,.35,.4,.4,.4,.4,\n",
    "                 .5,.3,.3,.4,.4,.35,\n",
    "                 .3,.3,.35,.45,.45,.4,\n",
    "                 .35,.3,.3,.35,.4,.4,\n",
    "                 .45,.35,.4,.3,.4,.3,\n",
    "                 .4,.4,.4,.3,.3])\n",
    "n_xib = np.array([.7,.5,.5,.7,.7,\n",
    "                 .5,.45,.55,.65,.6,.6,\n",
    "                 .5,.6,.6,.6,.65,.65,\n",
    "                 .6,.6,.6,.55,.6,.55,\n",
    "                 .45,.45,.45,.6,.6,.6,\n",
    "                 .45,.45,.5,.55,.6,.55,\n",
    "                 .6,.55,.6,.45,.55,.45,\n",
    "                 .5,.5,.6,.45,.45])\n",
    "n_xfb = np.array([1.3,1.35,1.35,1.6,1.65,\n",
    "                 1.35,1.35,1.35,1.7,1.7,1.7,\n",
    "                 1.35,1.2,1.3,1.8,1.75,1.8,\n",
    "                 1.75,1.75,1.75,1.4,1.,1.4,\n",
    "                 1.4,1.4,1.4,1.75,1.7,1.75,\n",
    "                 1.4,1.4,1.4,1.75,1.75,1.7,\n",
    "                 1.75,1.75,1.75,1.4,1.4,1.4,\n",
    "                 1.75,1.75,1.75,1.4,1.4])"
   ]
  },
  {
   "cell_type": "code",
   "execution_count": 5,
   "metadata": {},
   "outputs": [],
   "source": [
    "# raw data key names\n",
    "# dont run after changing the dict!\n",
    "nox_key = np.array([key for key in nox])\n",
    "wox_key = np.array([key for key in wox])"
   ]
  },
  {
   "cell_type": "code",
   "execution_count": 10,
   "metadata": {},
   "outputs": [
    {
     "data": {
      "image/png": "[encoded data removed]",
      "text/plain": [
       "<Figure size 432x288 with 1 Axes>"
      ]
     },
     "metadata": {
      "needs_background": "light"
     },
     "output_type": "display_data"
    }
   ],
   "source": [
    "sf.key_plot(wox,'s1t1_adj')\n",
    "# wox = sf.proj(wox,'s1t1',w_xfa[0])"
   ]
  },
  {
   "cell_type": "code",
   "execution_count": 16,
   "metadata": {},
   "outputs": [
    {
     "name": "stdout",
     "output_type": "stream",
     "text": [
      "height of  s1t1_adj  is: 36.1076720465646 +- 3.3959717069350543 nm\n"
     ]
    },
    {
     "data": {
      "image/png": "[encoded data removed]",
      "text/plain": [
       "<Figure size 432x288 with 1 Axes>"
      ]
     },
     "metadata": {
      "needs_background": "light"
     },
     "output_type": "display_data"
    }
   ],
   "source": [
    "wox = sf.height(wox,'s1t1_adj',w_xfa[0],w_xib[0],w_xfb[0],result=True)"
   ]
  },
  {
   "cell_type": "code",
   "execution_count": null,
   "metadata": {},
   "outputs": [],
   "source": [
    "wox = sf.sp_analysis_hard(wox,8,w_xfa,w_xib,w_xfb)\n",
    "nox = sf.sp_analysis_hard(nox,8,n_xfa,n_xib,n_xfb)"
   ]
  },
  {
   "cell_type": "code",
   "execution_count": null,
   "metadata": {},
   "outputs": [],
   "source": [
    "avgkey_w = np.array([key for key in wox if (re.search('avg',key))])\n",
    "avgkey_n = np.array([key for key in nox if (re.search('avg',key))])\n",
    "wox_avg = np.array([wox[avgkey_w[i]][0] for i in range(len(avgkey))],dtype=float)\n",
    "wox_std = np.array([wox[avgkey_w[i]][1] for i in range(len(avgkey))],dtype=float)\n",
    "nox_avg = np.array([nox[avgkey_n[i]][0] for i in range(len(avgkey))],dtype=float)\n",
    "nox_std = np.array([nox[avgkey_n[i]][1] for i in range(len(avgkey))],dtype=float)\n",
    "# plt.errorbar()\n",
    "n = np.arange(1,9)"
   ]
  },
  {
   "cell_type": "code",
   "execution_count": null,
   "metadata": {},
   "outputs": [],
   "source": [
    "plt.figure();\n",
    "plt.errorbar(n,wox_avg,yerr=wox_std,fmt='k.',label='Data');\n",
    "plt.axhline(40.,c='r',ls=':',label='Intended height');\n",
    "plt.xlabel('Sample Number');\n",
    "plt.ylabel('Vert. Height [nm]');\n",
    "plt.legend(loc='best');\n",
    "plt.title('Height and uncertainty of $Al_{2}O_{3}$ WITH $O_2$ dep per run from SP');"
   ]
  },
  {
   "cell_type": "code",
   "execution_count": null,
   "metadata": {},
   "outputs": [],
   "source": [
    "plt.figure();\n",
    "plt.errorbar(n,nox_avg,yerr=nox_std,fmt='k.',label='Data');\n",
    "plt.axhline(40.,c='r',ls=':',label='Intended height');\n",
    "plt.axhline(40.,c='r',ls=':');\n",
    "plt.xlabel('Sample Number');\n",
    "plt.ylabel('Vert. Height [nm]');\n",
    "plt.legend(loc='best');\n",
    "plt.title('Height and uncertainty of $Al_{2}O_{3}$ WITHOUT $O_2$ dep per run from SP');"
   ]
  },
  {
   "cell_type": "code",
   "execution_count": null,
   "metadata": {},
   "outputs": [],
   "source": [
    "for i in range(len(nox_key[41:])):\n",
    "    sf.key_plot(nox,nox_key[i+41])"
   ]
  },
  {
   "cell_type": "code",
   "execution_count": null,
   "metadata": {},
   "outputs": [],
   "source": [
    "# CHANGE THE OUTPUT OF 'PROJ' FROM TUPLE TO 2 ARRAYS\n",
    "# testing rms calc\n",
    "wox_rms = np.zeros_like(wox_key)\n",
    "nox_rms = np.zeros_like(nox_key)\n",
    "for i in range(len(wox_key)):\n",
    "    wox_rms[i] = np.sqrt(np.sum(wox[wox_key[i]+'_adj'][1]**2)/len(wox[wox_key[i]+'_adj'][1]))\n",
    "for i in range(len(nox_key)):\n",
    "    nox_rms[i] = np.sqrt(np.sum(nox[nox_key[i]+'_adj'][1]**2)/len(nox[nox_key[i]+'_adj'][1]))"
   ]
  },
  {
   "cell_type": "code",
   "execution_count": null,
   "metadata": {},
   "outputs": [],
   "source": [
    "wox_rms"
   ]
  },
  {
   "cell_type": "code",
   "execution_count": null,
   "metadata": {},
   "outputs": [],
   "source": [
    "nox_rms"
   ]
  },
  {
   "cell_type": "code",
   "execution_count": null,
   "metadata": {},
   "outputs": [],
   "source": [
    "# rms calculation, try on both raw and proj data\n",
    "# rms = [(sum(Z(x)^2)/N)]^1/2\n",
    "def rms(dick,key):\n",
    "    '''\n",
    "    calculates the rms of the data, this is the surface roughness\n",
    "    works with the already established dictionary/sp system\n",
    "    input:\n",
    "    z - array, float - a [N,1] array of the vertical heights at each point, N is number of points\n",
    "    output:\n",
    "    rms - float - the roughness of the surface\n",
    "    '''\n",
    "    if key in dick:\n",
    "        \n",
    "    return rms"
   ]
  },
  {
   "cell_type": "code",
   "execution_count": null,
   "metadata": {},
   "outputs": [],
   "source": [
    "def mv_avg():\n",
    "    '''\n",
    "    moving average algorithm built around the exsisting sp analysis framework\n",
    "    takes average of m (m<<tot pnts) consecutive pnts and replaces those po\n",
    "    '''"
   ]
  },
  {
   "cell_type": "code",
   "execution_count": null,
   "metadata": {},
   "outputs": [],
   "source": [
    "# testing implementation of moving average\n",
    "# doing filter after proj funct\n"
   ]
  },
  {
   "cell_type": "code",
   "execution_count": null,
   "metadata": {},
   "outputs": [],
   "source": [
    "range(len(np.array([key for key in wox])))"
   ]
  },
  {
   "cell_type": "code",
   "execution_count": null,
   "metadata": {},
   "outputs": [],
   "source": [
    "range(38)"
   ]
  },
  {
   "cell_type": "code",
   "execution_count": null,
   "metadata": {},
   "outputs": [],
   "source": [
    "np.array([key for key in nox]).shape"
   ]
  }
 ],
 "metadata": {
  "kernelspec": {
   "display_name": "Python 3",
   "language": "python",
   "name": "python3"
  },
  "language_info": {
   "codemirror_mode": {
    "name": "ipython",
    "version": 3
   },
   "file_extension": ".py",
   "mimetype": "text/x-python",
   "name": "python",
   "nbconvert_exporter": "python",
   "pygments_lexer": "ipython3",
   "version": "3.6.10"
  }
 },
 "nbformat": 4,
 "nbformat_minor": 4
}
